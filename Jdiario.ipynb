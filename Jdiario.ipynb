{
  "nbformat": 4,
  "nbformat_minor": 0,
  "metadata": {
    "colab": {
      "provenance": [],
      "authorship_tag": "ABX9TyNm65NejCjoP6HUjEt6tUEg",
      "include_colab_link": true
    },
    "kernelspec": {
      "name": "python3",
      "display_name": "Python 3"
    },
    "language_info": {
      "name": "python"
    }
  },
  "cells": [
    {
      "cell_type": "markdown",
      "metadata": {
        "id": "view-in-github",
        "colab_type": "text"
      },
      "source": [
        "<a href=\"https://colab.research.google.com/github/juliocfl/Projeto-DiarioDigital/blob/main/Jdiario.ipynb\" target=\"_parent\"><img src=\"https://colab.research.google.com/assets/colab-badge.svg\" alt=\"Open In Colab\"/></a>"
      ]
    },
    {
      "cell_type": "markdown",
      "source": [
        "bibliotecas:"
      ],
      "metadata": {
        "id": "Z8_RVChIXRks"
      }
    },
    {
      "cell_type": "code",
      "execution_count": null,
      "metadata": {
        "id": "vLEsdLxmXLnn"
      },
      "outputs": [],
      "source": [
        "import os\n",
        "from datetime import datetime"
      ]
    },
    {
      "cell_type": "markdown",
      "source": [
        "adicionar nova entrada no diario:"
      ],
      "metadata": {
        "id": "78RkEWPNXUUL"
      }
    },
    {
      "cell_type": "code",
      "source": [
        "def adicionar_entrada():\n",
        "  data_hora_atual = datetime.now().strftime(\"%d/%m/%Y %H:%M:%S\")\n",
        "\n",
        "  anotacao = input(\"Digite sua anotação: \")\n",
        "\n",
        "  with open(\"diario.txt\",\"a\") as arquivo:\n",
        "    arquivo.write(f\"[{data_hora_atual}] {anotacao}\\n\")\n",
        "\n",
        "print(\"Anotação salva com sucesso!\")"
      ],
      "metadata": {
        "colab": {
          "base_uri": "https://localhost:8080/"
        },
        "id": "xXRuMJUqXXZ7",
        "outputId": "5eadf528-d2ff-44dd-bb98-41e3f488e366"
      },
      "execution_count": null,
      "outputs": [
        {
          "output_type": "stream",
          "name": "stdout",
          "text": [
            "Anotação salva com sucesso!\n"
          ]
        }
      ]
    },
    {
      "cell_type": "markdown",
      "source": [
        "ler entradas do diario:"
      ],
      "metadata": {
        "id": "hyTPrfpXYgh0"
      }
    },
    {
      "cell_type": "code",
      "source": [
        "def ler_diario():\n",
        "    if os.path.exists(\"diario.txt\"):\n",
        "        with open(\"diario.txt\", \"r\") as arquivo:\n",
        "            entradas = arquivo.readlines()\n",
        "            if entradas:\n",
        "                for entrada in entradas:\n",
        "                    print(entrada.strip())\n",
        "            else:\n",
        "                print(\"O diário está vazio.\")\n",
        "    else:\n",
        "        print(\"O arquivo diário não existe.\")\n"
      ],
      "metadata": {
        "id": "KDl3dgnqYjnL"
      },
      "execution_count": null,
      "outputs": []
    },
    {
      "cell_type": "markdown",
      "source": [
        "limpar diario"
      ],
      "metadata": {
        "id": "eQkFzdTvcZQ9"
      }
    },
    {
      "cell_type": "code",
      "source": [
        "def limpar_diario():\n",
        "\n",
        "    with open(\"diario.txt\", \"w\") as arquivo:\n",
        "\n",
        "        pass\n",
        "\n",
        "    print(\"O diário foi limpo com sucesso!\")"
      ],
      "metadata": {
        "id": "hQUKeldMca0V"
      },
      "execution_count": null,
      "outputs": []
    },
    {
      "cell_type": "markdown",
      "source": [
        "menu interativo"
      ],
      "metadata": {
        "id": "KAw-8nJJZws8"
      }
    },
    {
      "cell_type": "code",
      "source": [
        "def menu():\n",
        "    while True:\n",
        "        print(\"\\nMenu:\")\n",
        "        print(\"1. Escrever no diário\")\n",
        "        print(\"2. Ler todas as entradas\")\n",
        "        print(\"3. Limpar o diário\")\n",
        "        print(\"4. Sair\")\n",
        "\n",
        "        opcao = input(\"Escolha uma opção (1, 2, 3 ou 4): \")\n",
        "\n",
        "        if opcao == \"1\":\n",
        "            adicionar_entrada()\n",
        "        elif opcao == \"2\":\n",
        "            ler_diario()\n",
        "        elif opcao == \"3\":\n",
        "            limpar_diario()\n",
        "        elif opcao == \"4\":\n",
        "            print(\"Saindo do programa. Até Logo!!!!!! :P\")\n",
        "            break\n",
        "        else:\n",
        "            print(\"Opção inválida! Por favor, escolha 1, 2, 3 ou 4.\")\n"
      ],
      "metadata": {
        "id": "b7-kBiIuZzGk"
      },
      "execution_count": null,
      "outputs": []
    },
    {
      "cell_type": "code",
      "source": [
        "menu()"
      ],
      "metadata": {
        "colab": {
          "base_uri": "https://localhost:8080/"
        },
        "id": "m8okO7lEbfOU",
        "outputId": "ff7ec2e3-2a59-452e-8125-c664b3612ba9"
      },
      "execution_count": null,
      "outputs": [
        {
          "output_type": "stream",
          "name": "stdout",
          "text": [
            "\n",
            "Menu:\n",
            "1. Escrever no diário\n",
            "2. Ler todas as entradas\n",
            "3. Limpar o diário\n",
            "4. Sair\n",
            "Escolha uma opção (1, 2, 3 ou 4): 2\n",
            "[24/03/2025 12:56:49] o david esta aqui comigo falando bobagens\n",
            "[24/03/2025 12:57:05] n sei\n",
            "\n",
            "Menu:\n",
            "1. Escrever no diário\n",
            "2. Ler todas as entradas\n",
            "3. Limpar o diário\n",
            "4. Sair\n",
            "Escolha uma opção (1, 2, 3 ou 4): 3\n",
            "O diário foi limpo com sucesso!\n",
            "\n",
            "Menu:\n",
            "1. Escrever no diário\n",
            "2. Ler todas as entradas\n",
            "3. Limpar o diário\n",
            "4. Sair\n",
            "Escolha uma opção (1, 2, 3 ou 4): 4\n",
            "Saindo do programa. Até Logo!!!!!! :P\n"
          ]
        }
      ]
    }
  ]
}